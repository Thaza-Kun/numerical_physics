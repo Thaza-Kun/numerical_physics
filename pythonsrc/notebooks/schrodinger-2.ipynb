{
 "cells": [
  {
   "cell_type": "code",
   "execution_count": 10,
   "metadata": {},
   "outputs": [],
   "source": [
    "import numpy as np\n",
    "import matplotlib.pyplot as plt\n",
    "from matplotlib import animation\n",
    "\n",
    "from scipy import sparse, integrate\n"
   ]
  },
  {
   "cell_type": "code",
   "execution_count": 11,
   "metadata": {},
   "outputs": [],
   "source": [
    "# Set x range\n",
    "dx: float   = 0.02\n",
    "x: np.array = np.arange(0, 10, dx)\n",
    "\n",
    "# Wave properties\n",
    "k_x: float  = 0.1                   # Wave number\n",
    "m: float    = 1.0                   # Mass of wave\n",
    "\n",
    "# Wave packet initialization\n",
    "wave_w: float    = 0.1               # Width of initial gaussian wave packet\n",
    "wave_x: float   = 3.0               # Center of initial gaussian wave packet\n",
    "\n",
    "A: float        = 1.0 / (wave_w * np.sqrt(np.pi))    # Normalization constant"
   ]
  },
  {
   "cell_type": "code",
   "execution_count": 12,
   "metadata": {},
   "outputs": [],
   "source": [
    "V_height = 50\n",
    "V = np.zeros(x.shape)\n",
    "for i, _x in enumerate(x):\n",
    "    if _x >= 4.5 and _x <= 5.5:\n",
    "        V[i] = V_height"
   ]
  },
  {
   "cell_type": "code",
   "execution_count": 13,
   "metadata": {},
   "outputs": [
    {
     "data": {
      "text/plain": [
       "array([[-2.,  1.,  0., ...,  0.,  0.,  0.],\n",
       "       [ 1., -2.,  1., ...,  0.,  0.,  0.],\n",
       "       [ 0.,  1., -2., ...,  0.,  0.,  0.],\n",
       "       ...,\n",
       "       [ 0.,  0.,  0., ..., -2.,  1.,  0.],\n",
       "       [ 0.,  0.,  0., ...,  1., -2.,  1.],\n",
       "       [ 0.,  0.,  0., ...,  0.,  1., -2.]])"
      ]
     },
     "execution_count": 13,
     "metadata": {},
     "output_type": "execute_result"
    }
   ],
   "source": [
    "# Laplace Operator\n",
    "D2: sparse.dia_matrix = sparse.diags([1,-2,1], [-1,0,1], shape=(x.size, x.size)) / dx**2\n",
    "D2.toarray()*dx**2"
   ]
  },
  {
   "cell_type": "code",
   "execution_count": 14,
   "metadata": {},
   "outputs": [],
   "source": [
    "psi_0: np.array    = np.exp(-(x-wave_x)**2 / (2.0 * wave_w**2)) * np.exp(1j * k_x * x) * np.sqrt(A)"
   ]
  },
  {
   "cell_type": "code",
   "execution_count": 15,
   "metadata": {},
   "outputs": [],
   "source": [
    "# Defining the Schrodinger wave function\n",
    "\n",
    "hbar: float = 1.0\n",
    "\n",
    "def psi_t(t: np.array, psi: np.array) -> np.array:\n",
    "    return - 1j * ((-0.5 * hbar / m) * D2.dot(psi) + (V/hbar)*psi)"
   ]
  },
  {
   "cell_type": "code",
   "execution_count": 16,
   "metadata": {},
   "outputs": [],
   "source": [
    "# We will use scipy to solve the equations\n",
    "\n",
    "dt: float           = 0.005  # time interval for snapshots\n",
    "t0: float           = 0.0    # initial time\n",
    "tf: float           = 1.0    # final time\n",
    "t_eval: np.array    = np.arange(t0, tf, dt)  # recorded time shots\n",
    "\n",
    "# Solve the Initial Value Problem\n",
    "sol = integrate.solve_ivp(psi_t, t_span = [t0, tf], y0 = psi_0, t_eval = t_eval, method=\"RK23\")"
   ]
  },
  {
   "cell_type": "code",
   "execution_count": 17,
   "metadata": {},
   "outputs": [
    {
     "data": {
      "image/png": "[encoded data removed]",
      "text/plain": [
       "<Figure size 640x480 with 1 Axes>"
      ]
     },
     "metadata": {},
     "output_type": "display_data"
    }
   ],
   "source": [
    "fig = plt.figure()\n",
    "ax1 = plt.subplot(1,1,1)\n",
    "ax1.set_xlim(0, 10)\n",
    "ax1.set_ylim(0, 6)\n",
    "title = ax1.set_title('')\n",
    "line1, = ax1.plot([], [], \"k--\")\n",
    "line2, = ax1.plot([], [])\n",
    "def init():\n",
    "    line1.set_data(x, V)\n",
    "    return line1,\n",
    "def animate(i):\n",
    "    line2.set_data(x, np.abs(sol.y[:,i])**2)\n",
    "    title.set_text('Time = {0:1.3f}'.format(sol.t[i]))\n",
    "    return line1,\n",
    "anim = animation.FuncAnimation(fig, animate, init_func=init,\n",
    "                               frames=len(sol.t), interval=50, blit=True)"
   ]
  },
  {
   "cell_type": "code",
   "execution_count": 18,
   "metadata": {},
   "outputs": [],
   "source": [
    "anim.save(f'sho_v{V_height}.mp4', fps=15, extra_args=['-vcodec', 'libx264'], dpi=300)"
   ]
  }
 ],
 "metadata": {
  "kernelspec": {
   "display_name": "Python 3.8.10 ('.venv': poetry)",
   "language": "python",
   "name": "python3"
  },
  "language_info": {
   "codemirror_mode": {
    "name": "ipython",
    "version": 3
   },
   "file_extension": ".py",
   "mimetype": "text/x-python",
   "name": "python",
   "nbconvert_exporter": "python",
   "pygments_lexer": "ipython3",
   "version": "3.8.10"
  },
  "orig_nbformat": 4,
  "vscode": {
   "interpreter": {
    "hash": "0f09d8cf581171a427e2eb2be313a2fc0952f856ce5e53ccc6db0f9e2b85f803"
   }
  }
 },
 "nbformat": 4,
 "nbformat_minor": 2
}
