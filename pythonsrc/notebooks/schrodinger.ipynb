{
 "cells": [
  {
   "cell_type": "markdown",
   "metadata": {},
   "source": [
    "# Persamaan Schr&ouml;dinger\n",
    "tarikh:: 2022-10-15"
   ]
  },
  {
   "cell_type": "markdown",
   "metadata": {},
   "source": [
    "## 0. Import"
   ]
  },
  {
   "cell_type": "code",
   "execution_count": 1,
   "metadata": {},
   "outputs": [],
   "source": [
    "import numpy as np\n",
    "from scipy import sparse, integrate\n",
    "import matplotlib.pyplot as plt\n",
    "from matplotlib import animation\n",
    "\n",
    "%matplotlib inline"
   ]
  },
  {
   "cell_type": "markdown",
   "metadata": {},
   "source": [
    "## 1. Nilai Awal"
   ]
  },
  {
   "cell_type": "code",
   "execution_count": 2,
   "metadata": {},
   "outputs": [],
   "source": [
    "# Set x range\n",
    "dx: float   = 0.02\n",
    "x: np.array = np.arange(0, 10, dx)\n",
    "\n",
    "# Wave properties\n",
    "k_x: float  = 0.1                   # Wave number\n",
    "m: float    = 1.0                   # Mass of wave\n",
    "\n",
    "# Wave packet initialization\n",
    "wave_w: float    = 0.1               # Width of initial gaussian wave packet\n",
    "wave_x: float   = 3.0               # Center of initial gaussian wave packet\n",
    "\n",
    "A: float        = 1.0 / (wave_w * np.sqrt(np.pi))    # Normalization constant"
   ]
  },
  {
   "cell_type": "markdown",
   "metadata": {},
   "source": [
    "### 1.1 Fungsi Penting\n",
    "Dua fungsi penting dalam pers. Schr&ouml;dinger ialah fungsi gelombang, $\\psi(x)$ (yang bertakrif) dan fungsi keupayaan $V(x)$ (yang sembarangan):\n",
    "\n",
    "$$\\psi(x)=\\sqrt{A}e^{-\\frac{(x-x_0)^2}{2\\text{width}^2}}e^{(ik_xx)}$$\n",
    "\n",
    "<!-- TODO Baca tentang gaussian wave packet -->"
   ]
  },
  {
   "cell_type": "code",
   "execution_count": 3,
   "metadata": {},
   "outputs": [
    {
     "name": "stdout",
     "output_type": "stream",
     "text": [
      "Total Probability:  0.9999999999999992\n"
     ]
    },
    {
     "data": {
      "image/png": "[encoded data removed]",
      "text/plain": [
       "<Figure size 640x480 with 1 Axes>"
      ]
     },
     "metadata": {},
     "output_type": "display_data"
    }
   ],
   "source": [
    "# Fungsi gelombang\n",
    "psi_0: np.array    = np.exp(-(x-wave_x)**2 / (2.0 * wave_w**2)) * np.exp(1j * k_x * x) * np.sqrt(A)\n",
    "\n",
    "plt.plot(x, np.abs(psi_0)**2, \"r\", label=r\"$\\vert\\psi(t=0,x)\\vert^2$\")\n",
    "plt.legend(loc=1, fontsize=8, fancybox=False)\n",
    "print(\"Total Probability: \", np.sum(np.abs(psi_0)**2)*dx)"
   ]
  },
  {
   "cell_type": "code",
   "execution_count": 13,
   "metadata": {},
   "outputs": [
    {
     "data": {
      "text/plain": [
       "<matplotlib.legend.Legend at 0x23e3e401a30>"
      ]
     },
     "execution_count": 13,
     "metadata": {},
     "output_type": "execute_result"
    },
    {
     "data": {
      "image/png": "[encoded data removed]",
      "text/plain": [
       "<Figure size 640x480 with 1 Axes>"
      ]
     },
     "metadata": {},
     "output_type": "display_data"
    }
   ],
   "source": [
    "# Fungsi keupayaan V(x)\n",
    "# Step potential\n",
    "V_height = 100\n",
    "\n",
    "V = np.zeros(x.shape)\n",
    "for i, _x in enumerate(x):\n",
    "    if _x >= 4.5 and _x <= 5.5:\n",
    "        V[i] = V_height\n",
    "\n",
    "\n",
    "plt.plot(x, V, \"r\", label=r\"Step potential\")\n",
    "plt.legend(loc=1, fontsize=8, fancybox=False)"
   ]
  },
  {
   "cell_type": "markdown",
   "metadata": {},
   "source": [
    "### 1.2 Laplace Operator (Finite Difference)\n",
    "\n",
    "The 1-D Laplace operator $\\nabla^2=\\frac{\\partial^2}{\\partial x^2}$ can be expressed in terms of a banded matrix:\n",
    "\n",
    "\\begin{align}\n",
    "\\frac{\\partial^2}{\\partial x^2} y(x)\n",
    "&= \n",
    "\\frac{1}{dx} \\left[ \\frac{y_{n+1} - y_{n}}{dx} - \\frac{y_{n} - y_{n-1}}{dx} \\right]\n",
    "\\\\\n",
    "&=\n",
    "\\frac{y_{n+1} - 2 y_{n} + y_{n-1}}{(dx)^2} \n",
    "\\\\\n",
    "&=\n",
    "\\frac{1}{(dx)^2}\n",
    "\\begin{pmatrix}\n",
    "  -2  &  1  &  0  &  0 &  0 \\\\\n",
    "   1  & -2  &  1  &  0 &  0 \\\\\n",
    "   0  &  1  & -2  &  1 &  0 \\\\\n",
    "   0  &  0  &  1  & -2 &  1 \\\\\n",
    "   0  &  0  &  0  &  1 & -2 \n",
    "\\end{pmatrix}\n",
    "\\cdot\n",
    "\\begin{pmatrix}\n",
    "   y_1   \\\\\n",
    "   y_2   \\\\\n",
    "   y_3   \\\\\n",
    "   y_4   \\\\\n",
    "   y_5  \n",
    "\\end{pmatrix}\n",
    "\\\\\n",
    "&\\equiv\n",
    "\\mathbf{D2} \\cdot \\mathbf{y}\n",
    "\\end{align}"
   ]
  },
  {
   "cell_type": "code",
   "execution_count": 14,
   "metadata": {},
   "outputs": [
    {
     "data": {
      "text/plain": [
       "array([[-2.,  1.,  0., ...,  0.,  0.,  0.],\n",
       "       [ 1., -2.,  1., ...,  0.,  0.,  0.],\n",
       "       [ 0.,  1., -2., ...,  0.,  0.,  0.],\n",
       "       ...,\n",
       "       [ 0.,  0.,  0., ..., -2.,  1.,  0.],\n",
       "       [ 0.,  0.,  0., ...,  1., -2.,  1.],\n",
       "       [ 0.,  0.,  0., ...,  0.,  1., -2.]])"
      ]
     },
     "execution_count": 14,
     "metadata": {},
     "output_type": "execute_result"
    }
   ],
   "source": [
    "# Laplace Operator\n",
    "D2: sparse.dia_matrix = sparse.diags([1,-2,1], [-1,0,1], shape=(x.size, x.size)) / dx**2\n",
    "D2.toarray()*dx**2"
   ]
  },
  {
   "cell_type": "markdown",
   "metadata": {},
   "source": [
    "Boleh cuba tengok sendiri kesahihan matrix `D2` dengan melihat samaada `D2 * sin(x)` akan hasilkan `-sin(x) = cos(x)` atau tak seperti yang dijangka."
   ]
  },
  {
   "cell_type": "markdown",
   "metadata": {},
   "source": [
    "## 2.0 Penyelesaian\n",
    "\n",
    "Original 1-D Schrodinger equation: $-\\frac{\\hbar^2}{2m}\\nabla^2\\psi + V \\psi = i\\hbar\\frac{\\partial}{\\partial t}\\psi$\n",
    "\n",
    "\n",
    "$$\\therefore \\psi_t \\equiv \\frac{\\partial}{\\partial t}\\psi(t,x) = -i\\left[-\\frac{\\hbar}{2m}\\nabla^2\\psi(t,x) + \\frac{1}{\\hbar} V(x) \\psi(t,x)\\right]$$"
   ]
  },
  {
   "cell_type": "code",
   "execution_count": 15,
   "metadata": {},
   "outputs": [],
   "source": [
    "# Defining the Schrodinger wave function\n",
    "\n",
    "hbar: float = 1.0\n",
    "\n",
    "def psi_t(t: np.array, psi: np.array) -> np.array:\n",
    "    return - 1j * ((-0.5 * hbar / m) * D2.dot(psi) + (V/hbar)*psi)\n"
   ]
  },
  {
   "cell_type": "code",
   "execution_count": 16,
   "metadata": {},
   "outputs": [],
   "source": [
    "# We will use scipy to solve the equations\n",
    "\n",
    "dt: float           = 0.005  # time interval for snapshots\n",
    "t0: float           = 0.0    # initial time\n",
    "tf: float           = 1.0    # final time\n",
    "t_eval: np.array    = np.arange(t0, tf, dt)  # recorded time shots\n",
    "\n",
    "# Solve the Initial Value Problem\n",
    "sol = integrate.solve_ivp(psi_t, t_span = [t0, tf], y0 = psi_0, t_eval = t_eval, method=\"RK23\")"
   ]
  },
  {
   "cell_type": "markdown",
   "metadata": {},
   "source": [
    "## 3. Plotting &amp; Animation\n",
    "\n",
    "### 3.1 Plotting"
   ]
  },
  {
   "cell_type": "code",
   "execution_count": 17,
   "metadata": {},
   "outputs": [
    {
     "data": {
      "image/png": "[encoded data removed]",
      "text/plain": [
       "<Figure size 600x400 with 1 Axes>"
      ]
     },
     "metadata": {},
     "output_type": "display_data"
    }
   ],
   "source": [
    "fig = plt.figure(figsize=(6, 4))\n",
    "for i, t in enumerate(sol.t):\n",
    "    plt.plot(x, np.abs(sol.y[:,i])**2)                  # Plot Wavefunctions\n",
    "    # print(f'Total probability: {np.sum(np.abs(sol.y[:,i])**2)*dx}')           # Print Total Probability (Should = 1)\n",
    "plt.plot(x, V, \"k--\", label=r\"$V(x) = 10 A \\sin(x)$\")   # Plot Potential\n",
    "plt.legend(loc=1, fontsize=8, fancybox=False)\n",
    "fig.savefig('sho@2x.png')"
   ]
  },
  {
   "cell_type": "markdown",
   "metadata": {},
   "source": [
    "### 3.2 Animation"
   ]
  },
  {
   "cell_type": "code",
   "execution_count": 18,
   "metadata": {},
   "outputs": [
    {
     "data": {
      "image/png": "[encoded data removed]",
      "text/plain": [
       "<Figure size 640x480 with 1 Axes>"
      ]
     },
     "metadata": {},
     "output_type": "display_data"
    }
   ],
   "source": [
    "fig = plt.figure()\n",
    "ax1 = plt.subplot(1,1,1)\n",
    "ax1.set_xlim(0, 10)\n",
    "ax1.set_ylim(0, 6)\n",
    "title = ax1.set_title('')\n",
    "line1, = ax1.plot([], [], \"k--\")\n",
    "line2, = ax1.plot([], [])\n",
    "\n",
    "\n",
    "def init():\n",
    "    line1.set_data(x, V)\n",
    "    return line1,\n",
    "\n",
    "\n",
    "def animate(i):\n",
    "    line2.set_data(x, np.abs(sol.y[:,i])**2)\n",
    "    title.set_text('Time = {0:1.3f}'.format(sol.t[i]))\n",
    "    return line1,\n",
    "\n",
    "\n",
    "anim = animation.FuncAnimation(fig, animate, init_func=init,\n",
    "                               frames=len(sol.t), interval=50, blit=True)"
   ]
  },
  {
   "cell_type": "code",
   "execution_count": 20,
   "metadata": {},
   "outputs": [],
   "source": [
    "# Save the animation into a short video\n",
    "anim.save('sho_v100.mp4', fps=15, extra_args=['-vcodec', 'libx264'], dpi=300)"
   ]
  }
 ],
 "metadata": {
  "kernelspec": {
   "display_name": "Python 3.8.10 ('.venv': venv)",
   "language": "python",
   "name": "python3"
  },
  "language_info": {
   "codemirror_mode": {
    "name": "ipython",
    "version": 3
   },
   "file_extension": ".py",
   "mimetype": "text/x-python",
   "name": "python",
   "nbconvert_exporter": "python",
   "pygments_lexer": "ipython3",
   "version": "3.8.10"
  },
  "orig_nbformat": 4,
  "vscode": {
   "interpreter": {
    "hash": "a3b4eb04f02d4430b0cd3bed787c8516161aaf3d7d3d2e29b4ce8289db8becc5"
   }
  }
 },
 "nbformat": 4,
 "nbformat_minor": 2
}
